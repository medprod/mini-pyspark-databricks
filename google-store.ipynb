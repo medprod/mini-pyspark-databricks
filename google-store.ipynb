{
 "cells": [
  {
   "cell_type": "code",
   "execution_count": 0,
   "metadata": {
    "application/vnd.databricks.v1+cell": {
     "cellMetadata": {
      "byteLimit": 2048000,
      "rowLimit": 10000
     },
     "inputWidgets": {},
     "nuid": "56f60be7-60da-456e-93c8-503943cd862d",
     "showTitle": false,
     "title": ""
    }
   },
   "outputs": [],
   "source": [
    "import pyspark\n",
    "from pyspark.sql import SparkSession\n",
    "from pyspark.sql.types import StructType, StructField, StringType, IntegerType\n",
    "from pyspark.sql.functions import *"
   ]
  },
  {
   "cell_type": "code",
   "execution_count": 0,
   "metadata": {
    "application/vnd.databricks.v1+cell": {
     "cellMetadata": {
      "byteLimit": 2048000,
      "rowLimit": 10000
     },
     "inputWidgets": {},
     "nuid": "64e3e910-ae33-42a3-9c2f-6966c756b962",
     "showTitle": false,
     "title": "dataframe created"
    }
   },
   "outputs": [],
   "source": [
    "df = spark.read.load('/FileStore/tables/googleplaystore-3.csv', format='csv', sep=',', header='true', escape='\"', inferschema='true')"
   ]
  },
  {
   "cell_type": "code",
   "execution_count": 0,
   "metadata": {
    "application/vnd.databricks.v1+cell": {
     "cellMetadata": {
      "byteLimit": 2048000,
      "rowLimit": 10000
     },
     "inputWidgets": {},
     "nuid": "611fc5a1-33be-48b9-a56f-032166342d7a",
     "showTitle": false,
     "title": ""
    }
   },
   "outputs": [
    {
     "output_type": "stream",
     "name": "stdout",
     "output_type": "stream",
     "text": [
      "Out[5]: 10841"
     ]
    }
   ],
   "source": [
    "df.count()"
   ]
  },
  {
   "cell_type": "code",
   "execution_count": 0,
   "metadata": {
    "application/vnd.databricks.v1+cell": {
     "cellMetadata": {
      "byteLimit": 2048000,
      "rowLimit": 10000
     },
     "inputWidgets": {},
     "nuid": "62fff4d0-3984-43ec-8b84-a3231c64f110",
     "showTitle": false,
     "title": ""
    }
   },
   "outputs": [
    {
     "output_type": "stream",
     "name": "stdout",
     "output_type": "stream",
     "text": [
      "+--------------------+--------------+------+-------+----+--------+----+-----+--------------+------------+---------------+-----------+------------+\n|                 App|      Category|Rating|Reviews|Size|Installs|Type|Price|Content Rating|      Genres|   Last Updated|Current Ver| Android Ver|\n+--------------------+--------------+------+-------+----+--------+----+-----+--------------+------------+---------------+-----------+------------+\n|Photo Editor & Ca...|ART_AND_DESIGN|   4.1|    159| 19M| 10,000+|Free|    0|      Everyone|Art & Design|January 7, 2018|      1.0.0|4.0.3 and up|\n+--------------------+--------------+------+-------+----+--------+----+-----+--------------+------------+---------------+-----------+------------+\nonly showing top 1 row\n\n"
     ]
    }
   ],
   "source": [
    "df.show(1)"
   ]
  },
  {
   "cell_type": "code",
   "execution_count": 0,
   "metadata": {
    "application/vnd.databricks.v1+cell": {
     "cellMetadata": {
      "byteLimit": 2048000,
      "rowLimit": 10000
     },
     "inputWidgets": {},
     "nuid": "1bc851c3-8940-4d8a-b92e-13d02fef09d4",
     "showTitle": false,
     "title": ""
    }
   },
   "outputs": [
    {
     "output_type": "stream",
     "name": "stdout",
     "output_type": "stream",
     "text": [
      "root\n |-- App: string (nullable = true)\n |-- Category: string (nullable = true)\n |-- Rating: double (nullable = true)\n |-- Reviews: string (nullable = true)\n |-- Size: string (nullable = true)\n |-- Installs: string (nullable = true)\n |-- Type: string (nullable = true)\n |-- Price: string (nullable = true)\n |-- Content Rating: string (nullable = true)\n |-- Genres: string (nullable = true)\n |-- Last Updated: string (nullable = true)\n |-- Current Ver: string (nullable = true)\n |-- Android Ver: string (nullable = true)\n\n"
     ]
    }
   ],
   "source": [
    "df.printSchema()"
   ]
  },
  {
   "cell_type": "code",
   "execution_count": 0,
   "metadata": {
    "application/vnd.databricks.v1+cell": {
     "cellMetadata": {
      "byteLimit": 2048000,
      "rowLimit": 10000
     },
     "inputWidgets": {},
     "nuid": "345100f6-4430-4ad8-aecc-451573af040c",
     "showTitle": true,
     "title": "Data Cleaning"
    }
   },
   "outputs": [],
   "source": [
    "#dropping a few columns that may not be so important.\n",
    "df = df.drop(\"size\", \"Content Rating\", \"Last Updated\", \"Android Ver\", \"Current Ver\")"
   ]
  },
  {
   "cell_type": "code",
   "execution_count": 0,
   "metadata": {
    "application/vnd.databricks.v1+cell": {
     "cellMetadata": {
      "byteLimit": 2048000,
      "rowLimit": 10000
     },
     "inputWidgets": {},
     "nuid": "03350cb1-5c71-4411-81b0-3d8cc5f38b3e",
     "showTitle": false,
     "title": ""
    }
   },
   "outputs": [
    {
     "output_type": "stream",
     "name": "stdout",
     "output_type": "stream",
     "text": [
      "+--------------------+--------------+------+-------+--------+----+-----+------------+\n|                 App|      Category|Rating|Reviews|Installs|Type|Price|      Genres|\n+--------------------+--------------+------+-------+--------+----+-----+------------+\n|Photo Editor & Ca...|ART_AND_DESIGN|   4.1|    159| 10,000+|Free|    0|Art & Design|\n+--------------------+--------------+------+-------+--------+----+-----+------------+\nonly showing top 1 row\n\n"
     ]
    }
   ],
   "source": [
    "df.show(1)"
   ]
  },
  {
   "cell_type": "code",
   "execution_count": 0,
   "metadata": {
    "application/vnd.databricks.v1+cell": {
     "cellMetadata": {
      "byteLimit": 2048000,
      "rowLimit": 10000
     },
     "inputWidgets": {},
     "nuid": "7e666832-e739-421a-aa1b-a7d2323b5044",
     "showTitle": false,
     "title": ""
    }
   },
   "outputs": [
    {
     "output_type": "stream",
     "name": "stdout",
     "output_type": "stream",
     "text": [
      "root\n |-- App: string (nullable = true)\n |-- Category: string (nullable = true)\n |-- Rating: double (nullable = true)\n |-- Reviews: string (nullable = true)\n |-- Installs: string (nullable = true)\n |-- Type: string (nullable = true)\n |-- Price: string (nullable = true)\n |-- Genres: string (nullable = true)\n\n"
     ]
    }
   ],
   "source": [
    "df.printSchema()"
   ]
  },
  {
   "cell_type": "code",
   "execution_count": 0,
   "metadata": {
    "application/vnd.databricks.v1+cell": {
     "cellMetadata": {
      "byteLimit": 2048000,
      "rowLimit": 10000
     },
     "inputWidgets": {},
     "nuid": "77522416-5321-44fd-8cc8-4436b5c450cb",
     "showTitle": false,
     "title": ""
    }
   },
   "outputs": [],
   "source": [
    "#converting some column data types\n",
    "\n",
    "#converts the review column from string to integer type\n",
    "df = df.withColumn(\"Reviews\", col(\"Reviews\").cast(IntegerType()))"
   ]
  },
  {
   "cell_type": "code",
   "execution_count": 0,
   "metadata": {
    "application/vnd.databricks.v1+cell": {
     "cellMetadata": {
      "byteLimit": 2048000,
      "rowLimit": 10000
     },
     "inputWidgets": {},
     "nuid": "fdc34d68-d133-48b7-83a3-62bf405e92be",
     "showTitle": false,
     "title": ""
    }
   },
   "outputs": [],
   "source": [
    "from pyspark.sql.functions import regexp_replace, col\n",
    "#removing + symbol from symbol, $ symbol from price and converting both to integer data types\n",
    "\n",
    "df = df.withColumn(\"Installs\", regexp_replace(col(\"Installs\"), \"[^0-9]\", \"\"))\\\n",
    "    .withColumn(\"Installs\", col(\"Installs\").cast(IntegerType()))\n"
   ]
  },
  {
   "cell_type": "code",
   "execution_count": 0,
   "metadata": {
    "application/vnd.databricks.v1+cell": {
     "cellMetadata": {
      "byteLimit": 2048000,
      "rowLimit": 10000
     },
     "inputWidgets": {},
     "nuid": "56648f74-c1cb-4ccd-9b4e-624626d499e5",
     "showTitle": false,
     "title": ""
    }
   },
   "outputs": [],
   "source": [
    "df = df.withColumn(\"Price\", regexp_replace(col(\"Price\"), \"[$]\", \"\"))\\\n",
    "    .withColumn(\"Price\", col(\"Price\").cast(IntegerType()))"
   ]
  },
  {
   "cell_type": "code",
   "execution_count": 0,
   "metadata": {
    "application/vnd.databricks.v1+cell": {
     "cellMetadata": {
      "byteLimit": 2048000,
      "rowLimit": 10000
     },
     "inputWidgets": {},
     "nuid": "4ebf6fc0-b159-45ba-914a-27421dcf964c",
     "showTitle": false,
     "title": ""
    }
   },
   "outputs": [
    {
     "output_type": "stream",
     "name": "stdout",
     "output_type": "stream",
     "text": [
      "root\n |-- App: string (nullable = true)\n |-- Category: string (nullable = true)\n |-- Rating: double (nullable = true)\n |-- Reviews: integer (nullable = true)\n |-- Installs: integer (nullable = true)\n |-- Type: string (nullable = true)\n |-- Price: integer (nullable = true)\n |-- Genres: string (nullable = true)\n\n"
     ]
    }
   ],
   "source": [
    "df.printSchema()"
   ]
  },
  {
   "cell_type": "code",
   "execution_count": 0,
   "metadata": {
    "application/vnd.databricks.v1+cell": {
     "cellMetadata": {
      "byteLimit": 2048000,
      "rowLimit": 10000
     },
     "inputWidgets": {},
     "nuid": "b79fb365-f839-42ae-9e61-0895c167523e",
     "showTitle": false,
     "title": ""
    }
   },
   "outputs": [
    {
     "output_type": "stream",
     "name": "stdout",
     "output_type": "stream",
     "text": [
      "+--------------------+--------------+------+-------+--------+----+-----+--------------------+\n|                 App|      Category|Rating|Reviews|Installs|Type|Price|              Genres|\n+--------------------+--------------+------+-------+--------+----+-----+--------------------+\n|Photo Editor & Ca...|ART_AND_DESIGN|   4.1|    159|   10000|Free|    0|        Art & Design|\n| Coloring book moana|ART_AND_DESIGN|   3.9|    967|  500000|Free|    0|Art & Design;Pret...|\n|U Launcher Lite –...|ART_AND_DESIGN|   4.7|  87510| 5000000|Free|    0|        Art & Design|\n|Sketch - Draw & P...|ART_AND_DESIGN|   4.5| 215644|50000000|Free|    0|        Art & Design|\n|Pixel Draw - Numb...|ART_AND_DESIGN|   4.3|    967|  100000|Free|    0|Art & Design;Crea...|\n+--------------------+--------------+------+-------+--------+----+-----+--------------------+\nonly showing top 5 rows\n\n"
     ]
    }
   ],
   "source": [
    "df.show(5)"
   ]
  },
  {
   "cell_type": "code",
   "execution_count": 0,
   "metadata": {
    "application/vnd.databricks.v1+cell": {
     "cellMetadata": {
      "byteLimit": 2048000,
      "rowLimit": 10000
     },
     "inputWidgets": {},
     "nuid": "94ce3900-d932-476e-98c5-28d6782487df",
     "showTitle": true,
     "title": "Running SQL Commands"
    }
   },
   "outputs": [],
   "source": [
    "#convert the data frame into a view\n",
    "\n",
    "df.createOrReplaceTempView(\"apps\")"
   ]
  },
  {
   "cell_type": "code",
   "execution_count": 0,
   "metadata": {
    "application/vnd.databricks.v1+cell": {
     "cellMetadata": {
      "byteLimit": 2048000,
      "implicitDf": true,
      "rowLimit": 10000
     },
     "inputWidgets": {},
     "nuid": "b5453f91-07b1-4c9e-9d3c-56ade90d6a5d",
     "showTitle": false,
     "title": ""
    }
   },
   "outputs": [],
   "source": [
    "# %sql select * from apps"
   ]
  },
  {
   "cell_type": "code",
   "execution_count": 0,
   "metadata": {
    "application/vnd.databricks.v1+cell": {
     "cellMetadata": {
      "byteLimit": 2048000,
      "implicitDf": true,
      "rowLimit": 10000
     },
     "inputWidgets": {},
     "nuid": "8112046c-6652-4f16-b057-24c7c20ecb95",
     "showTitle": true,
     "title": "Top 10 Most Reviewed Apps"
    }
   },
   "outputs": [
    {
     "output_type": "display_data",
     "data": {
      "text/html": [
       "<style scoped>\n",
       "  .table-result-container {\n",
       "    max-height: 300px;\n",
       "    overflow: auto;\n",
       "  }\n",
       "  table, th, td {\n",
       "    border: 1px solid black;\n",
       "    border-collapse: collapse;\n",
       "  }\n",
       "  th, td {\n",
       "    padding: 5px;\n",
       "  }\n",
       "  th {\n",
       "    text-align: left;\n",
       "  }\n",
       "</style><div class='table-result-container'><table class='table-result'><thead style='background-color: white'><tr><th>App</th><th>sum(Reviews)</th></tr></thead><tbody><tr><td>Instagram</td><td>266241989</td></tr><tr><td>WhatsApp Messenger</td><td>207348304</td></tr><tr><td>Clash of Clans</td><td>179558781</td></tr><tr><td>Messenger – Text and Video Chat for Free</td><td>169932272</td></tr><tr><td>Subway Surfers</td><td>166331958</td></tr><tr><td>Candy Crush Saga</td><td>156993136</td></tr><tr><td>Facebook</td><td>156286514</td></tr><tr><td>8 Ball Pool</td><td>99386198</td></tr><tr><td>Clash Royale</td><td>92530298</td></tr><tr><td>Snapchat</td><td>68045010</td></tr></tbody></table></div>"
      ]
     },
     "metadata": {
      "application/vnd.databricks.v1+output": {
       "addedWidgets": {},
       "aggData": [],
       "aggError": "",
       "aggOverflow": false,
       "aggSchema": [],
       "aggSeriesLimitReached": false,
       "aggType": "",
       "arguments": {},
       "columnCustomDisplayInfos": {},
       "data": [
        [
         "Instagram",
         266241989
        ],
        [
         "WhatsApp Messenger",
         207348304
        ],
        [
         "Clash of Clans",
         179558781
        ],
        [
         "Messenger – Text and Video Chat for Free",
         169932272
        ],
        [
         "Subway Surfers",
         166331958
        ],
        [
         "Candy Crush Saga",
         156993136
        ],
        [
         "Facebook",
         156286514
        ],
        [
         "8 Ball Pool",
         99386198
        ],
        [
         "Clash Royale",
         92530298
        ],
        [
         "Snapchat",
         68045010
        ]
       ],
       "datasetInfos": [],
       "dbfsResultPath": null,
       "isJsonSchema": true,
       "metadata": {},
       "overflow": false,
       "plotOptions": {
        "customPlotOptions": {},
        "displayType": "table",
        "pivotAggregation": null,
        "pivotColumns": null,
        "xColumns": null,
        "yColumns": null
       },
       "removedWidgets": [],
       "schema": [
        {
         "metadata": "{}",
         "name": "App",
         "type": "\"string\""
        },
        {
         "metadata": "{\"__autoGeneratedAlias\":\"true\"}",
         "name": "sum(Reviews)",
         "type": "\"long\""
        }
       ],
       "type": "table"
      }
     },
     "output_type": "display_data"
    }
   ],
   "source": [
    "%sql select App, sum(Reviews) from apps\n",
    "group by App\n",
    "order by 2 desc\n",
    "LIMIT 10"
   ]
  },
  {
   "cell_type": "code",
   "execution_count": 0,
   "metadata": {
    "application/vnd.databricks.v1+cell": {
     "cellMetadata": {
      "byteLimit": 2048000,
      "implicitDf": true,
      "rowLimit": 10000
     },
     "inputWidgets": {},
     "nuid": "1578aa5d-6c70-4743-b3e0-89e861286f49",
     "showTitle": true,
     "title": "Top 10 Most Installed Apps"
    }
   },
   "outputs": [
    {
     "output_type": "display_data",
     "data": {
      "text/html": [
       "<style scoped>\n",
       "  .table-result-container {\n",
       "    max-height: 300px;\n",
       "    overflow: auto;\n",
       "  }\n",
       "  table, th, td {\n",
       "    border: 1px solid black;\n",
       "    border-collapse: collapse;\n",
       "  }\n",
       "  th, td {\n",
       "    padding: 5px;\n",
       "  }\n",
       "  th {\n",
       "    text-align: left;\n",
       "  }\n",
       "</style><div class='table-result-container'><table class='table-result'><thead style='background-color: white'><tr><th>App</th><th>sum(Installs)</th></tr></thead><tbody><tr><td>Subway Surfers</td><td>6000000000</td></tr><tr><td>Instagram</td><td>4000000000</td></tr><tr><td>Hangouts</td><td>4000000000</td></tr><tr><td>Google Drive</td><td>4000000000</td></tr><tr><td>Google News</td><td>4000000000</td></tr><tr><td>Google Photos</td><td>4000000000</td></tr><tr><td>Candy Crush Saga</td><td>3500000000</td></tr><tr><td>WhatsApp Messenger</td><td>3000000000</td></tr><tr><td>Messenger – Text and Video Chat for Free</td><td>3000000000</td></tr><tr><td>Google Chrome: Fast & Secure</td><td>3000000000</td></tr></tbody></table></div>"
      ]
     },
     "metadata": {
      "application/vnd.databricks.v1+output": {
       "addedWidgets": {},
       "aggData": [],
       "aggError": "",
       "aggOverflow": false,
       "aggSchema": [],
       "aggSeriesLimitReached": false,
       "aggType": "",
       "arguments": {},
       "columnCustomDisplayInfos": {},
       "data": [
        [
         "Subway Surfers",
         6000000000
        ],
        [
         "Instagram",
         4000000000
        ],
        [
         "Hangouts",
         4000000000
        ],
        [
         "Google Drive",
         4000000000
        ],
        [
         "Google News",
         4000000000
        ],
        [
         "Google Photos",
         4000000000
        ],
        [
         "Candy Crush Saga",
         3500000000
        ],
        [
         "WhatsApp Messenger",
         3000000000
        ],
        [
         "Messenger – Text and Video Chat for Free",
         3000000000
        ],
        [
         "Google Chrome: Fast & Secure",
         3000000000
        ]
       ],
       "datasetInfos": [],
       "dbfsResultPath": null,
       "isJsonSchema": true,
       "metadata": {},
       "overflow": false,
       "plotOptions": {
        "customPlotOptions": {},
        "displayType": "table",
        "pivotAggregation": null,
        "pivotColumns": null,
        "xColumns": null,
        "yColumns": null
       },
       "removedWidgets": [],
       "schema": [
        {
         "metadata": "{}",
         "name": "App",
         "type": "\"string\""
        },
        {
         "metadata": "{\"__autoGeneratedAlias\":\"true\"}",
         "name": "sum(Installs)",
         "type": "\"long\""
        }
       ],
       "type": "table"
      }
     },
     "output_type": "display_data"
    }
   ],
   "source": [
    "%sql select App, sum(Installs) From apps\n",
    "group by 1\n",
    "order by 2 desc\n",
    "LIMIT 10"
   ]
  },
  {
   "cell_type": "code",
   "execution_count": 0,
   "metadata": {
    "application/vnd.databricks.v1+cell": {
     "cellMetadata": {
      "byteLimit": 2048000,
      "implicitDf": true,
      "rowLimit": 10000
     },
     "inputWidgets": {},
     "nuid": "ee566a00-bcef-4dca-b628-04cea3ef465b",
     "showTitle": true,
     "title": "Top Paid Apps"
    }
   },
   "outputs": [
    {
     "output_type": "display_data",
     "data": {
      "text/html": [
       "<style scoped>\n",
       "  .table-result-container {\n",
       "    max-height: 300px;\n",
       "    overflow: auto;\n",
       "  }\n",
       "  table, th, td {\n",
       "    border: 1px solid black;\n",
       "    border-collapse: collapse;\n",
       "  }\n",
       "  th, td {\n",
       "    padding: 5px;\n",
       "  }\n",
       "  th {\n",
       "    text-align: left;\n",
       "  }\n",
       "</style><div class='table-result-container'><table class='table-result'><thead style='background-color: white'><tr><th>App</th><th>sum(Price)</th></tr></thead><tbody><tr><td>I'm Rich - Trump Edition</td><td>400</td></tr><tr><td>most expensive app (H)</td><td>399</td></tr><tr><td>I am rich(premium)</td><td>399</td></tr><tr><td>I Am Rich Premium</td><td>399</td></tr><tr><td>I am Rich Plus</td><td>399</td></tr><tr><td>I'm Rich/Eu sou Rico/أنا غني/我很有錢</td><td>399</td></tr><tr><td>I Am Rich Pro</td><td>399</td></tr><tr><td>I AM RICH PRO PLUS</td><td>399</td></tr><tr><td>I am Rich</td><td>399</td></tr><tr><td>I am Rich!</td><td>399</td></tr></tbody></table></div>"
      ]
     },
     "metadata": {
      "application/vnd.databricks.v1+output": {
       "addedWidgets": {},
       "aggData": [],
       "aggError": "",
       "aggOverflow": false,
       "aggSchema": [],
       "aggSeriesLimitReached": false,
       "aggType": "",
       "arguments": {},
       "columnCustomDisplayInfos": {},
       "data": [
        [
         "I'm Rich - Trump Edition",
         400
        ],
        [
         "most expensive app (H)",
         399
        ],
        [
         "I am rich(premium)",
         399
        ],
        [
         "I Am Rich Premium",
         399
        ],
        [
         "I am Rich Plus",
         399
        ],
        [
         "I'm Rich/Eu sou Rico/أنا غني/我很有錢",
         399
        ],
        [
         "I Am Rich Pro",
         399
        ],
        [
         "I AM RICH PRO PLUS",
         399
        ],
        [
         "I am Rich",
         399
        ],
        [
         "I am Rich!",
         399
        ]
       ],
       "datasetInfos": [],
       "dbfsResultPath": null,
       "isJsonSchema": true,
       "metadata": {},
       "overflow": false,
       "plotOptions": {
        "customPlotOptions": {},
        "displayType": "table",
        "pivotAggregation": null,
        "pivotColumns": null,
        "xColumns": null,
        "yColumns": null
       },
       "removedWidgets": [],
       "schema": [
        {
         "metadata": "{}",
         "name": "App",
         "type": "\"string\""
        },
        {
         "metadata": "{\"__autoGeneratedAlias\":\"true\"}",
         "name": "sum(Price)",
         "type": "\"long\""
        }
       ],
       "type": "table"
      }
     },
     "output_type": "display_data"
    },
    {
     "output_type": "display_data",
     "data": {
      "text/plain": [
       "Databricks visualization. Run in Databricks to view."
      ]
     },
     "metadata": {
      "application/vnd.databricks.v1.subcommand+json": {
       "baseErrorDetails": null,
       "bindings": {},
       "collapsed": false,
       "command": "%sql WITH q AS (select App, sum(Price) from apps\nwhere Type='Paid'\ngroup by 1\norder by 2 desc) SELECT `App`,SUM(`sum(Price)`) `column_713526054`,`sum(Price)` FROM q GROUP BY `App`,`sum(Price)`",
       "commandTitle": "Visualization 1",
       "commandType": "auto",
       "commandVersion": 0,
       "commentThread": [],
       "commentsVisible": false,
       "contentSha256Hex": null,
       "customPlotOptions": {
        "redashChart": [
         {
          "key": "type",
          "value": "CHART"
         },
         {
          "key": "options",
          "value": {
           "alignYAxesAtZero": true,
           "coefficient": 1,
           "columnConfigurationMap": {
            "series": {
             "column": "sum(Price)",
             "id": "column_713526052"
            },
            "x": {
             "column": "App",
             "id": "column_713526056"
            },
            "y": [
             {
              "column": "sum(Price)",
              "id": "column_713526054",
              "transform": "SUM"
             }
            ]
           },
           "dateTimeFormat": "DD/MM/YYYY HH:mm",
           "direction": {
            "type": "counterclockwise"
           },
           "error_y": {
            "type": "data",
            "visible": true
           },
           "globalSeriesType": "column",
           "isAggregationOn": true,
           "legend": {
            "traceorder": "normal"
           },
           "missingValuesAsZero": true,
           "numberFormat": "0,0.[00000]",
           "percentFormat": "0[.]00%",
           "series": {
            "error_y": {
             "type": "data",
             "visible": true
            },
            "stacking": null
           },
           "seriesOptions": {
            "column_713526054": {
             "type": "column",
             "yAxis": 0
            }
           },
           "showDataLabels": false,
           "sizemode": "diameter",
           "sortX": true,
           "sortY": true,
           "swappedAxes": false,
           "textFormat": "",
           "useAggregationsUi": true,
           "valuesOptions": {},
           "version": 2,
           "xAxis": {
            "labels": {
             "enabled": true
            },
            "type": "-"
           },
           "yAxis": [
            {
             "type": "-"
            },
            {
             "opposite": true,
             "type": "-"
            }
           ]
          }
         }
        ]
       },
       "datasetPreviewNameToCmdIdMap": {},
       "diffDeletes": [],
       "diffInserts": [],
       "displayType": "redashChart",
       "error": null,
       "errorDetails": null,
       "errorSummary": null,
       "errorTraceType": null,
       "finishTime": 0,
       "globalVars": {},
       "guid": "",
       "height": "auto",
       "hideCommandCode": false,
       "hideCommandResult": false,
       "iPythonMetadata": null,
       "inputWidgets": {},
       "isLockedInExamMode": false,
       "latestUser": "a user",
       "latestUserId": null,
       "listResultMetadata": null,
       "metadata": {},
       "nuid": "6eb25f39-dc20-4c92-a69b-19e6358cd270",
       "origId": 0,
       "parentHierarchy": [],
       "pivotAggregation": null,
       "pivotColumns": null,
       "position": 19.0,
       "resultDbfsErrorMessage": null,
       "resultDbfsStatus": "INLINED_IN_TREE",
       "results": null,
       "showCommandTitle": false,
       "startTime": 0,
       "state": "input",
       "streamStates": {},
       "subcommandOptions": {
        "queryPlan": {
         "groups": [
          {
           "column": "App",
           "type": "column"
          },
          {
           "column": "sum(Price)",
           "type": "column"
          }
         ],
         "selects": [
          {
           "column": "App",
           "type": "column"
          },
          {
           "alias": "column_713526054",
           "args": [
            {
             "column": "sum(Price)",
             "type": "column"
            }
           ],
           "function": "SUM",
           "type": "function"
          },
          {
           "column": "sum(Price)",
           "type": "column"
          }
         ]
        }
       },
       "submitTime": 0,
       "subtype": "tableResultSubCmd.visualization",
       "tableResultIndex": 0,
       "useConsistentColors": false,
       "version": "CommandV1",
       "width": "auto",
       "workflows": [],
       "xColumns": null,
       "yColumns": null
      }
     },
     "output_type": "display_data"
    }
   ],
   "source": [
    "%sql select App, sum(Price) from apps\n",
    "where Type='Paid'\n",
    "group by 1\n",
    "order by 2 desc\n",
    "LIMIT 10"
   ]
  },
  {
   "cell_type": "code",
   "execution_count": 0,
   "metadata": {
    "application/vnd.databricks.v1+cell": {
     "cellMetadata": {},
     "inputWidgets": {},
     "nuid": "5efac58a-8b00-4a9b-8f88-8f18c02f6182",
     "showTitle": false,
     "title": ""
    }
   },
   "outputs": [],
   "source": []
  }
 ],
 "metadata": {
  "application/vnd.databricks.v1+notebook": {
   "dashboards": [],
   "language": "python",
   "notebookMetadata": {
    "mostRecentlyExecutedCommandWithImplicitDF": {
     "commandId": 2701863298286370,
     "dataframes": [
      "_sqldf"
     ]
    },
    "pythonIndentUnit": 4
   },
   "notebookName": "google-store",
   "widgets": {}
  }
 },
 "nbformat": 4,
 "nbformat_minor": 0
}
